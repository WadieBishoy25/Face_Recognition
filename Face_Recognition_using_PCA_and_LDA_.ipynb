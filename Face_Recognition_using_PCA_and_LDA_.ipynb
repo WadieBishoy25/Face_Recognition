{
  "nbformat": 4,
  "nbformat_minor": 0,
  "metadata": {
    "colab": {
      "name": "Face Recognition using PCA and LDA .ipynb",
      "provenance": [],
      "collapsed_sections": []
    },
    "kernelspec": {
      "name": "python3",
      "display_name": "Python 3"
    }
  },
  "cells": [
    {
      "cell_type": "markdown",
      "metadata": {
        "id": "c7v4xzyNPHjt",
        "colab_type": "text"
      },
      "source": [
        "##**Fetching and Preparing the data**"
      ]
    },
    {
      "cell_type": "code",
      "metadata": {
        "id": "yfxQkxGuHqu-",
        "colab_type": "code",
        "colab": {}
      },
      "source": [
        "from google.colab import drive\n",
        "import numpy as np\n",
        "from PIL import Image\n",
        "from sklearn.preprocessing import StandardScaler\n",
        "from sklearn.neighbors import KNeighborsClassifier\n",
        "from sklearn import metrics\n",
        "import matplotlib.pyplot as plt\n",
        "#added to be able to read from google drive\n",
        "drive.mount('/content/drive')\n",
        "dataset = []\n",
        "\n",
        "for person in range(1, 41):\n",
        "    for img in range(1, 11):\n",
        "        #edited to be able to read from google drive\n",
        "        folder_path = '/content/drive/My Drive/dataset/att_faces/s' + str(person) + '/'\n",
        "\n",
        "        image = Image.open(folder_path + str(img) + '.pgm')\n",
        "        vec = np.array(image).reshape(10304)\n",
        "\n",
        "        dataset.append(vec)\n",
        "\n",
        "D = np.array([example for example in dataset])\n",
        "D = D.reshape((400, 10304))\n",
        "\n",
        "#Genrating the label vector\n",
        "labels =[]\n",
        "\n",
        "for i in range(1, 41):\n",
        "    labels.append(i * np.ones((10, 1)))\n",
        "y = np.stack(labels, axis=0).reshape(400, 1)\n",
        "\n",
        "#odd rows for training\n",
        "x_train = D[::2]\n",
        "y_train = y[::2]\n",
        "\n",
        "#even rows for test\n",
        "x_test = D[1::2]\n",
        "y_test = y[1::2]\n",
        "\n"
      ],
      "execution_count": 0,
      "outputs": []
    },
    {
      "cell_type": "markdown",
      "metadata": {
        "id": "vadAikHNSnKd",
        "colab_type": "text"
      },
      "source": [
        "##**PCA Calculation**"
      ]
    },
    {
      "cell_type": "code",
      "metadata": {
        "id": "PaxY3LuAXENL",
        "colab_type": "code",
        "colab": {}
      },
      "source": [
        "from numpy import linalg\n",
        "\n",
        "alphas = [0.80, 0.85, 0.90, 0.95]\n",
        "Ks = [1,3,5,7]\n",
        "mean = np.mean(x_train, axis=0)\n",
        "centered_data = x_train - mean\n",
        "covariance = (centered_data.T.dot(centered_data))/len(x_train)"
      ],
      "execution_count": 0,
      "outputs": []
    },
    {
      "cell_type": "code",
      "metadata": {
        "id": "ZGeOtBljYAKk",
        "colab_type": "code",
        "colab": {}
      },
      "source": [
        "\n",
        "pca_evalues, pca_evectors = linalg.eigh(covariance)\n",
        "x = pca_evalues.argsort()[::-1]\n",
        "pca_evalues = pca_evalues[x]\n",
        "pca_evectors = pca_evectors[:,x]\n"
      ],
      "execution_count": 0,
      "outputs": []
    },
    {
      "cell_type": "code",
      "metadata": {
        "id": "N7ntGZJFaDNS",
        "colab_type": "code",
        "colab": {}
      },
      "source": [
        "#calculating number of eigen values needed\n",
        "def count_eigenV(pca_evalues, alpha):\n",
        "    total = sum(pca_evalues)\n",
        "    current_sum = 0.0\n",
        "    counter = 0\n",
        "    while current_sum/total < alpha:\n",
        "        current_sum += pca_evalues[counter]\n",
        "        counter += 1\n",
        "    return counter\n",
        "\n",
        "#projecting train and test on projection matrix\n",
        "def project(PJmat, train_data, test_data):\n",
        "    PJmat = PJmat.transpose()\n",
        "    prj_train = np.dot(train_data, PJmat)\n",
        "    prj_test = np.dot(test_data, PJmat)\n",
        "    return prj_train, prj_test\n",
        "\n",
        "#k-neighbors\n",
        "from sklearn.neighbors import KNeighborsClassifier\n",
        "from sklearn.metrics import accuracy_score\n",
        "def Kneighb(k,train,test,testLabel,aplha,y_train):\n",
        "    model = KNeighborsClassifier(n_neighbors=k)\n",
        "    FitModel = model.fit(train, y_train)\n",
        "    predictions = model.predict(test)\n",
        "    accuracy = round(accuracy_score(testLabel, predictions), 2)\n",
        "    print(\"For alpha = \",aplha, \"and k = \",k, \"Accuracy = \",accuracy)\n",
        "    return accuracy"
      ],
      "execution_count": 0,
      "outputs": []
    },
    {
      "cell_type": "code",
      "metadata": {
        "id": "g26sekkMdgAu",
        "colab_type": "code",
        "colab": {}
      },
      "source": [
        "count_80 = count_eigenV(pca_evalues, 0.80)\n",
        "count_85 = count_eigenV(pca_evalues, 0.85)\n",
        "count_90 = count_eigenV(pca_evalues, 0.90)\n",
        "count_95 = count_eigenV(pca_evalues, 0.95)\n",
        "\n",
        "#clac projection matrix for each alpha\n",
        "\n",
        "prj_mat80 = np.vstack(pca_evectors.T[0:count_80])\n",
        "prj_mat85 = np.vstack(pca_evectors.T[0:count_85])\n",
        "prj_mat90 = np.vstack(pca_evectors.T[0:count_90])\n",
        "prj_mat95 = np.vstack(pca_evectors.T[0:count_95])\n",
        "\n",
        "PJtrain80, PJtest80 = project(prj_mat80, x_train, x_test)\n",
        "PJtrain85, PJtest85 = project(prj_mat85, x_train, x_test)\n",
        "PJtrain90, PJtest90 = project(prj_mat90, x_train, x_test)\n",
        "PJtrain95, PJtest95 = project(prj_mat95, x_train, x_test)\n",
        "\n",
        "#converting label from nd array to 1d array *needed in k-nearest*\n",
        "y_rtrain = y_train.ravel()\n",
        "y_rtest = y_test.ravel()\n",
        "\n"
      ],
      "execution_count": 0,
      "outputs": []
    },
    {
      "cell_type": "code",
      "metadata": {
        "id": "kxAhl6kMvHCB",
        "colab_type": "code",
        "outputId": "24b547e9-2240-4c94-922b-5bd4b80f8fe0",
        "colab": {
          "base_uri": "https://localhost:8080/",
          "height": 817
        }
      },
      "source": [
        "#converting all labels from float to int alson needed in k nearest \n",
        "y_train_ready = list(map(int, y_rtrain))\n",
        "y_test_ready = list(map(int, y_rtest))\n",
        "\n",
        "#have fun!\n",
        "import matplotlib.pyplot as plt\n",
        "\n",
        "i = 0\n",
        "for i in range(4):\n",
        "  x = []\n",
        "  x.append(Kneighb(Ks[i],PJtrain80,PJtest80,y_test_ready,0.80,y_train_ready))\n",
        "  print(\"\")\n",
        "  x.append(Kneighb(Ks[i],PJtrain85,PJtest85,y_test_ready,0.85,y_train_ready))\n",
        "  print(\"\")\n",
        "  x.append(Kneighb(Ks[i],PJtrain90,PJtest90,y_test_ready,0.90,y_train_ready))\n",
        "  print(\"\")\n",
        "  x.append(Kneighb(Ks[i],PJtrain95,PJtest95,y_test_ready,0.95,y_train_ready))\n",
        "  print(\"\")\n",
        "  plt.plot([0.8,0.85,0.9,0.95],x)\n",
        "  #plt.show() #to show each graph of alpha individually\n",
        "plt.xlabel(\"alpha\")  \n",
        "plt.ylabel(\"accuracy\")\n",
        "plt.legend([\"1\",\"3\",\"5\",\"7\"])  \n",
        "plt.show()\n",
        "\n",
        "\n"
      ],
      "execution_count": 0,
      "outputs": [
        {
          "output_type": "stream",
          "text": [
            "For alpha =  0.8 and k =  1 Accuracy =  0.95\n",
            "\n",
            "For alpha =  0.85 and k =  1 Accuracy =  0.95\n",
            "\n",
            "For alpha =  0.9 and k =  1 Accuracy =  0.94\n",
            "\n",
            "For alpha =  0.95 and k =  1 Accuracy =  0.94\n",
            "\n",
            "For alpha =  0.8 and k =  3 Accuracy =  0.9\n",
            "\n",
            "For alpha =  0.85 and k =  3 Accuracy =  0.9\n",
            "\n",
            "For alpha =  0.9 and k =  3 Accuracy =  0.89\n",
            "\n",
            "For alpha =  0.95 and k =  3 Accuracy =  0.9\n",
            "\n",
            "For alpha =  0.8 and k =  5 Accuracy =  0.85\n",
            "\n",
            "For alpha =  0.85 and k =  5 Accuracy =  0.84\n",
            "\n",
            "For alpha =  0.9 and k =  5 Accuracy =  0.84\n",
            "\n",
            "For alpha =  0.95 and k =  5 Accuracy =  0.84\n",
            "\n",
            "For alpha =  0.8 and k =  7 Accuracy =  0.8\n",
            "\n",
            "For alpha =  0.85 and k =  7 Accuracy =  0.78\n",
            "\n",
            "For alpha =  0.9 and k =  7 Accuracy =  0.77\n",
            "\n",
            "For alpha =  0.95 and k =  7 Accuracy =  0.74\n",
            "\n"
          ],
          "name": "stdout"
        },
        {
          "output_type": "display_data",
          "data": {
            "image/png": "[encoded data removed]",
            "text/plain": [
              "<Figure size 432x288 with 1 Axes>"
            ]
          },
          "metadata": {
            "tags": []
          }
        }
      ]
    },
    {
      "cell_type": "markdown",
      "metadata": {
        "id": "ezXUtuoTlBJ_",
        "colab_type": "text"
      },
      "source": [
        "##**LDA Calculation**"
      ]
    },
    {
      "cell_type": "code",
      "metadata": {
        "id": "L1UliIWflKMa",
        "colab_type": "code",
        "colab": {}
      },
      "source": [
        "def LinearDiscriminant(D, y):\n",
        "\n",
        "    print(\"@ Partioning the dataset into class-specific subsets...\")\n",
        "    #partioning the dataset into class-specific subsets\n",
        "    classes = []\n",
        "    for label in range(1, 41):\n",
        "        classes.append(\n",
        "            [D[i] for i in range(200) if y[i] == label]\n",
        "        )\n",
        "    classed_dataset = np.array(classes)\n",
        "\n",
        "    print(\"@ Computing the mean vector for each class...\")\n",
        "    mean_vectors = np.zeros((40, 10304))\n",
        "    for i in range(40):\n",
        "        mean_vectors[i, :] = np.mean(classed_dataset[i], axis=0)\n",
        "\n",
        "\n",
        "    print(\"@ Computing the between-class scatter matrix...\")\n",
        "    #overall mean\n",
        "    overall_mean = np.mean(D, axis=0).reshape(1, 10304)\n",
        "    #Calulating the between-class scatter matrix\n",
        "    Sb = np.zeros((10304, 10304))\n",
        "\n",
        "    for j in range(40):\n",
        "        Sb += len(classed_dataset[j]) * np.outer((np.array(mean_vectors[j, :]) - overall_mean), (np.transpose(mean_vectors[j, :] - overall_mean)))\n",
        "    print(\"     - Between-class scatter matrix: %sx%s\" % (Sb.shape[0], Sb.shape[1]))\n",
        "\n",
        "    # Center the class matrices.\n",
        "    print(\"@ Centering the dataset...\")\n",
        "    sc = StandardScaler()\n",
        "    class_data = []\n",
        "    for i in range(40):\n",
        "        class_data.append(sc.fit_transform(classed_dataset[i]))\n",
        "\n",
        "    print(\"@ Computing the between-class scatter matrix...\")\n",
        "    #within-class scatter matrices\n",
        "    Sw = np.zeros((10304, 10304), dtype='float64')\n",
        "    for each_class in range(40):\n",
        "        Si = np.zeros((10304, 10304))\n",
        "        for each_example in range(5):\n",
        "            example = class_data[each_class][each_example].reshape(10304, 1)\n",
        "            class_mean = mean_vectors[each_class, :].reshape(10304, 1)\n",
        "            Si += np.outer((example - class_mean), ((example - class_mean).T))  # compute the class-specific scatter matrix.\n",
        "    Sw += Si\n",
        "\n",
        "    print(\"     - Within-class scatter matrix: %s x %s\" % (Sw.shape[0], Sw.shape[1]))\n",
        "\n",
        "    # Compute the dominant eigenvectors.\n",
        "    print('@ Computing eigenvectors & eigenvalues:')\n",
        "    eigen_values, eigen_vectors = np.linalg.eigh(np.linalg.pinv(Sw).dot(Sb))\n",
        "    \n",
        "    # Make a list of (eigenvalue, eigenvector) pairs\n",
        "    print('     - Making pairs of (eigenvectors & eigenvalues) and sorting them in descending order corresponding to eigenvalues...')\n",
        "    eigen_pairs = [(np.abs(eigen_values[i]), eigen_vectors[:,i].real) for i in range(len(eigen_values))]\n",
        "\n",
        "    # Sort the (eigenvalue, eigenvector) tuples from high to low\n",
        "    eigen_pairs = sorted(eigen_pairs, key=lambda k: k[0], reverse=True)\n",
        "\n",
        "    # Use 39 dominant eigenvectors to form the projection matrix.\n",
        "    U = np.hstack((eigen_pairs[0][1][:, np.newaxis],\n",
        "                   eigen_pairs[1][1][:, np.newaxis],\n",
        "                   eigen_pairs[2][1][:, np.newaxis],\n",
        "                   eigen_pairs[3][1][:, np.newaxis],\n",
        "                   eigen_pairs[4][1][:, np.newaxis],\n",
        "                   eigen_pairs[5][1][:, np.newaxis],\n",
        "                   eigen_pairs[6][1][:, np.newaxis],\n",
        "                   eigen_pairs[7][1][:, np.newaxis],\n",
        "                   eigen_pairs[8][1][:, np.newaxis],\n",
        "                   eigen_pairs[9][1][:, np.newaxis],\n",
        "                   eigen_pairs[10][1][:, np.newaxis],\n",
        "                   eigen_pairs[11][1][:, np.newaxis],\n",
        "                   eigen_pairs[12][1][:, np.newaxis],\n",
        "                   eigen_pairs[13][1][:, np.newaxis],\n",
        "                   eigen_pairs[14][1][:, np.newaxis],\n",
        "                   eigen_pairs[15][1][:, np.newaxis],\n",
        "                   eigen_pairs[16][1][:, np.newaxis],\n",
        "                   eigen_pairs[17][1][:, np.newaxis],\n",
        "                   eigen_pairs[18][1][:, np.newaxis],\n",
        "                   eigen_pairs[19][1][:, np.newaxis],\n",
        "                   eigen_pairs[20][1][:, np.newaxis],\n",
        "                   eigen_pairs[21][1][:, np.newaxis],\n",
        "                   eigen_pairs[22][1][:, np.newaxis],\n",
        "                   eigen_pairs[23][1][:, np.newaxis],\n",
        "                   eigen_pairs[24][1][:, np.newaxis],\n",
        "                   eigen_pairs[25][1][:, np.newaxis],\n",
        "                   eigen_pairs[26][1][:, np.newaxis],\n",
        "                   eigen_pairs[27][1][:, np.newaxis],\n",
        "                   eigen_pairs[28][1][:, np.newaxis],\n",
        "                   eigen_pairs[29][1][:, np.newaxis],\n",
        "                   eigen_pairs[30][1][:, np.newaxis],\n",
        "                   eigen_pairs[31][1][:, np.newaxis],\n",
        "                   eigen_pairs[32][1][:, np.newaxis],\n",
        "                   eigen_pairs[33][1][:, np.newaxis],\n",
        "                   eigen_pairs[34][1][:, np.newaxis],\n",
        "                   eigen_pairs[35][1][:, np.newaxis],\n",
        "                   eigen_pairs[36][1][:, np.newaxis],\n",
        "                   eigen_pairs[37][1][:, np.newaxis],\n",
        "                   eigen_pairs[38][1][:, np.newaxis]\n",
        "                   ))\n",
        "\n",
        "    print('\\n-------------------------------------------------------------------------------------------------')\n",
        "    print('\\n@ Matrix U:\\n', U)\n",
        "    print('\\n-------------------------------------------------------------------------------------------------')\n",
        "    return U, Sw\n"
      ],
      "execution_count": 0,
      "outputs": []
    },
    {
      "cell_type": "code",
      "metadata": {
        "id": "CpB4r-4PlVOK",
        "colab_type": "code",
        "outputId": "52fec229-625e-4520-88c6-aeed359a99f2",
        "colab": {
          "base_uri": "https://localhost:8080/",
          "height": 1000
        }
      },
      "source": [
        "U, Sw = LinearDiscriminant(x_train, y_train)\n",
        "print('\\n@ Within-class scatter matrix Sw: \\n', Sw)\n",
        "print('\\n-------------------------------------------------------------------------------------------------')\n",
        "print('@ Projecting the data: ')\n",
        "# Projecting the training data\n",
        "projection_natrix_train = x_train.dot(U)\n",
        "print('projection train:\\n', projection_natrix_train)\n",
        "print('\\n-------------------------------------------------------------------------------------------------')\n",
        "# Projecting the test data\n",
        "projection_natrix_test = x_test.dot(U)"
      ],
      "execution_count": 0,
      "outputs": [
        {
          "output_type": "stream",
          "text": [
            "@ Partioning the dataset into class-specific subsets...\n",
            "@ Computing the mean vector for each class...\n",
            "@ Computing the between-class scatter matrix...\n",
            "     - Between-class scatter matrix: 10304x10304\n",
            "@ Centering the dataset...\n",
            "@ Computing the between-class scatter matrix...\n",
            "     - Within-class scatter matrix: 10304 x 10304\n",
            "@ Computing eigenvectors & eigenvalues:\n",
            "     - Making pairs of (eigenvectors & eigenvalues) and sorting them in descending order corresponding to eigenvalues...\n",
            "\n",
            "-------------------------------------------------------------------------------------------------\n",
            "\n",
            "@ Matrix U:\n",
            " [[ 1.74168566e-01 -2.02439814e-01  1.81360299e-01 ...  6.69448753e-04\n",
            "  -3.02478388e-04 -1.19883878e-04]\n",
            " [ 1.64766616e-01 -2.14652056e-01  2.08296922e-01 ... -5.07428409e-04\n",
            "  -4.87350189e-04  2.19601772e-05]\n",
            " [ 1.81831211e-01 -1.88256637e-01  1.40768173e-01 ... -1.31081541e-04\n",
            "   1.29051132e-04  5.55390784e-05]\n",
            " ...\n",
            " [-1.34852216e-04 -1.34120066e-04 -1.18861711e-04 ... -9.08157405e-03\n",
            "   5.51315728e-03 -6.89207177e-03]\n",
            " [ 1.42998094e-04  1.41745371e-04  1.79797607e-04 ...  3.30004521e-04\n",
            "   1.23432795e-02 -3.50871153e-03]\n",
            " [ 2.22093502e-05  1.97149074e-05  2.66129586e-05 ... -3.48004761e-03\n",
            "   5.09852127e-03 -6.30405437e-03]]\n",
            "\n",
            "-------------------------------------------------------------------------------------------------\n",
            "\n",
            "@ Within-class scatter matrix Sw: \n",
            " [[78380.2        77378.23648536 78503.97747064 ... 49081.42274836\n",
            "  51334.89542158 48706.15501165]\n",
            " [77378.23648536 76389.8        77501.72189503 ... 48453.77374181\n",
            "  50678.32837655 48083.2757078 ]\n",
            " [78503.97747064 77501.72189503 78630.8        ... 49158.52708572\n",
            "  51415.35387432 48782.5947644 ]\n",
            " ...\n",
            " [49081.42274836 48453.77374181 49158.52708572 ... 30737.8\n",
            "  32148.98138444 30502.57893176]\n",
            " [51334.89542158 50678.32837655 51415.35387432 ... 32148.98138444\n",
            "  33625.         31902.94535545]\n",
            " [48706.15501165 48083.2757078  48782.5947644  ... 30502.57893176\n",
            "  31902.94535545 30269.2       ]]\n",
            "\n",
            "-------------------------------------------------------------------------------------------------\n",
            "@ Projecting the data: \n",
            "projection train:\n",
            " [[ 215.42848819 -171.58859501  -64.29784166 ... -488.74759825\n",
            "  -373.63311217 -952.46392141]\n",
            " [ 227.31261359 -171.64468133  -73.80323793 ... -551.81233352\n",
            "  -363.75154194 -936.45995045]\n",
            " [ 229.15987155 -174.75573842  -24.97532772 ... -300.38020732\n",
            "  -774.31036167 -390.24325477]\n",
            " ...\n",
            " [ 461.21716422 -404.31230804 -123.62996037 ... -164.24441726\n",
            "  -204.56255164 -331.98273771]\n",
            " [ 470.9209144  -399.59775651 -115.78170896 ...   23.6950433\n",
            "  -453.36621555 -496.88973373]\n",
            " [ 419.66456825 -366.39151468  -92.25188491 ...  -24.52293105\n",
            "  -403.09408637 -169.04314453]]\n",
            "\n",
            "-------------------------------------------------------------------------------------------------\n"
          ],
          "name": "stdout"
        }
      ]
    },
    {
      "cell_type": "code",
      "metadata": {
        "id": "6cGk34--ldUd",
        "colab_type": "code",
        "outputId": "6c5073c9-d5af-4da9-8d4e-d27099b945a5",
        "colab": {
          "base_uri": "https://localhost:8080/",
          "height": 380
        }
      },
      "source": [
        "print('\\n@ Using KNN classifier: ')\n",
        "x_lda = []\n",
        "# Use a k Nearest Neighbor classifier to classify the data.\n",
        "classifier = KNeighborsClassifier(n_neighbors=1)\n",
        "classifier.fit(projection_natrix_train, y_train.ravel())\n",
        "y_pred = classifier.predict(projection_natrix_test)\n",
        "print(\"k=1 \", metrics.accuracy_score(y_test, y_pred))\n",
        "x_lda.append(metrics.accuracy_score(y_test, y_pred))\n",
        "\n",
        "classifier = KNeighborsClassifier(n_neighbors=3)\n",
        "classifier.fit(projection_natrix_train, y_train.ravel())\n",
        "y_pred = classifier.predict(projection_natrix_test)\n",
        "print(\"k=3 \", metrics.accuracy_score(y_test, y_pred))\n",
        "x_lda.append(metrics.accuracy_score(y_test, y_pred))\n",
        "\n",
        "classifier = KNeighborsClassifier(n_neighbors=5)\n",
        "classifier.fit(projection_natrix_train, y_train.ravel())\n",
        "y_pred = classifier.predict(projection_natrix_test)\n",
        "print(\"k=5 \", metrics.accuracy_score(y_test, y_pred))\n",
        "x_lda.append(metrics.accuracy_score(y_test, y_pred))\n",
        "\n",
        "classifier = KNeighborsClassifier(n_neighbors=7)\n",
        "classifier.fit(projection_natrix_train, y_train.ravel())\n",
        "y_pred = classifier.predict(projection_natrix_test)\n",
        "print(\"k=7 \", metrics.accuracy_score(y_test, y_pred))\n",
        "x_lda.append(metrics.accuracy_score(y_test, y_pred))\n",
        "\n",
        "plt.xlabel(\"k\")  \n",
        "plt.ylabel(\"accuracy\")\n",
        "plt.plot([1,3,5,7],x_lda , 'go')\n",
        "plt.show()"
      ],
      "execution_count": 0,
      "outputs": [
        {
          "output_type": "stream",
          "text": [
            "\n",
            "@ Using KNN classifier: \n",
            "k=1  0.935\n",
            "k=3  0.87\n",
            "k=5  0.775\n",
            "k=7  0.73\n"
          ],
          "name": "stdout"
        },
        {
          "output_type": "display_data",
          "data": {
            "image/png": "[encoded data removed]",
            "text/plain": [
              "<Figure size 432x288 with 1 Axes>"
            ]
          },
          "metadata": {
            "tags": []
          }
        }
      ]
    },
    {
      "cell_type": "markdown",
      "metadata": {
        "id": "oePTjHNRtouz",
        "colab_type": "text"
      },
      "source": [
        "##**If we change the train-test distribution to 70-30**\n"
      ]
    },
    {
      "cell_type": "code",
      "metadata": {
        "id": "4FqT-7xduHju",
        "colab_type": "code",
        "colab": {}
      },
      "source": [
        "from google.colab import drive\n",
        "import numpy as np\n",
        "from PIL import Image\n",
        "from sklearn.preprocessing import StandardScaler\n",
        "from sklearn.neighbors import KNeighborsClassifier\n",
        "from sklearn import metrics\n",
        "import matplotlib.pyplot as plt\n",
        "#added to be able to read from google drive\n",
        "drive.mount('/content/drive')\n",
        "dataset = []\n",
        "\n",
        "for person in range(1, 41):\n",
        "    for img in range(1, 11):\n",
        "        #edited to be able to read from google drive\n",
        "        folder_path = '/content/drive/My Drive/dataset/att_faces/s' + str(person) + '/'\n",
        "\n",
        "        image = Image.open(folder_path + str(img) + '.pgm')\n",
        "        vec = np.array(image).reshape(10304)\n",
        "\n",
        "        dataset.append(vec)\n",
        "\n",
        "D = np.array([example for example in dataset])\n",
        "D = D.reshape((400, 10304))\n",
        "\n",
        "#Genrating the label vector\n",
        "labels =[]\n",
        "\n",
        "for i in range(1, 41):\n",
        "    labels.append(i * np.ones((10, 1)))\n",
        "y = np.stack(labels, axis=0).reshape(400, 1)\n",
        "\n",
        "x_train = []\n",
        "y_train = []\n",
        "x_test = []\n",
        "y_test = []\n",
        "#first 7 rows for training and 3 for testing\n",
        "for i in range(D.shape[0]):\n",
        "  if i%10 < 7 : \n",
        "    x_train.append(D[i])\n",
        "    y_train.append(y[i])\n",
        "  else :\n",
        "    x_test.append(D[i])\n",
        "    y_test.append(y[i])\n",
        "\n",
        "print(len(x_train))\n",
        "print(len(x_test))"
      ],
      "execution_count": 0,
      "outputs": []
    },
    {
      "cell_type": "markdown",
      "metadata": {
        "id": "4Ts-iLkDyq_H",
        "colab_type": "text"
      },
      "source": [
        "##**PCA Calculation**"
      ]
    },
    {
      "cell_type": "code",
      "metadata": {
        "id": "7xufbg6iwf_Q",
        "colab_type": "code",
        "colab": {}
      },
      "source": [
        "alphas = [0.80, 0.85, 0.90, 0.95]\n",
        "Ks = [1,3,5,7]\n",
        "mean = np.mean(x_train, axis=0)\n",
        "centered_data = x_train - mean\n",
        "covariance = (centered_data.T.dot(centered_data))/len(x_train)\n",
        "pca_evalues, pca_evectors = linalg.eigh(covariance)\n",
        "x = pca_evalues.argsort()[::-1]\n",
        "pca_evalues = pca_evalues[x]\n",
        "pca_evectors = pca_evectors[:,x]"
      ],
      "execution_count": 0,
      "outputs": []
    },
    {
      "cell_type": "code",
      "metadata": {
        "id": "KLRywJdNwrNs",
        "colab_type": "code",
        "outputId": "e0b24776-b14c-49a0-e879-f08b5b8020ed",
        "colab": {
          "base_uri": "https://localhost:8080/",
          "height": 817
        }
      },
      "source": [
        "count_80 = count_eigenV(pca_evalues, 0.80)\n",
        "count_85 = count_eigenV(pca_evalues, 0.85)\n",
        "count_90 = count_eigenV(pca_evalues, 0.90)\n",
        "count_95 = count_eigenV(pca_evalues, 0.95)\n",
        "\n",
        "#clac projection matrix for each alpha\n",
        "\n",
        "prj_mat80 = np.vstack(pca_evectors.T[0:count_80])\n",
        "prj_mat85 = np.vstack(pca_evectors.T[0:count_85])\n",
        "prj_mat90 = np.vstack(pca_evectors.T[0:count_90])\n",
        "prj_mat95 = np.vstack(pca_evectors.T[0:count_95])\n",
        "\n",
        "PJtrain80, PJtest80 = project(prj_mat80, x_train, x_test)\n",
        "PJtrain85, PJtest85 = project(prj_mat85, x_train, x_test)\n",
        "PJtrain90, PJtest90 = project(prj_mat90, x_train, x_test)\n",
        "PJtrain95, PJtest95 = project(prj_mat95, x_train, x_test)\n",
        "\n",
        "#converting all labels from float to int alson needed in k nearest \n",
        "y_train_ready = list(map(int, y_train))\n",
        "y_test_ready = list(map(int, y_test))\n",
        "\n",
        "#have fun!\n",
        "import matplotlib.pyplot as plt\n",
        "\n",
        "i = 0\n",
        "for i in range(4):\n",
        "  x = []\n",
        "  x.append(Kneighb(Ks[i],PJtrain80,PJtest80,y_test_ready,0.80,y_train_ready))\n",
        "  print(\"\")\n",
        "  x.append(Kneighb(Ks[i],PJtrain85,PJtest85,y_test_ready,0.85,y_train_ready))\n",
        "  print(\"\")\n",
        "  x.append(Kneighb(Ks[i],PJtrain90,PJtest90,y_test_ready,0.90,y_train_ready))\n",
        "  print(\"\")\n",
        "  x.append(Kneighb(Ks[i],PJtrain95,PJtest95,y_test_ready,0.95,y_train_ready))\n",
        "  print(\"\")\n",
        "  plt.plot([0.8,0.85,0.9,0.95],x)\n",
        "  #plt.show() #to show each graph of alpha individually\n",
        "plt.xlabel(\"alpha\")  \n",
        "plt.ylabel(\"accuracy\")\n",
        "plt.legend([\"1\",\"3\",\"5\",\"7\"])  \n",
        "plt.show()\n"
      ],
      "execution_count": 0,
      "outputs": [
        {
          "output_type": "stream",
          "text": [
            "For alpha =  0.8 and k =  1 Accuracy =  0.96\n",
            "\n",
            "For alpha =  0.85 and k =  1 Accuracy =  0.97\n",
            "\n",
            "For alpha =  0.9 and k =  1 Accuracy =  0.97\n",
            "\n",
            "For alpha =  0.95 and k =  1 Accuracy =  0.95\n",
            "\n",
            "For alpha =  0.8 and k =  3 Accuracy =  0.92\n",
            "\n",
            "For alpha =  0.85 and k =  3 Accuracy =  0.93\n",
            "\n",
            "For alpha =  0.9 and k =  3 Accuracy =  0.92\n",
            "\n",
            "For alpha =  0.95 and k =  3 Accuracy =  0.94\n",
            "\n",
            "For alpha =  0.8 and k =  5 Accuracy =  0.91\n",
            "\n",
            "For alpha =  0.85 and k =  5 Accuracy =  0.91\n",
            "\n",
            "For alpha =  0.9 and k =  5 Accuracy =  0.89\n",
            "\n",
            "For alpha =  0.95 and k =  5 Accuracy =  0.9\n",
            "\n",
            "For alpha =  0.8 and k =  7 Accuracy =  0.84\n",
            "\n",
            "For alpha =  0.85 and k =  7 Accuracy =  0.84\n",
            "\n",
            "For alpha =  0.9 and k =  7 Accuracy =  0.85\n",
            "\n",
            "For alpha =  0.95 and k =  7 Accuracy =  0.8\n",
            "\n"
          ],
          "name": "stdout"
        },
        {
          "output_type": "display_data",
          "data": {
            "image/png": "[encoded data removed]",
            "text/plain": [
              "<Figure size 432x288 with 1 Axes>"
            ]
          },
          "metadata": {
            "tags": []
          }
        }
      ]
    }
  ]
}